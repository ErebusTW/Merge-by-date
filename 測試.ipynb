{
 "cells": [
  {
   "cell_type": "code",
   "execution_count": 1,
   "metadata": {},
   "outputs": [],
   "source": [
    "import pandas as pd"
   ]
  },
  {
   "cell_type": "code",
   "execution_count": 23,
   "metadata": {},
   "outputs": [],
   "source": [
    "df = pd.read_excel(r\"\\\\192.168.1.230\\新金部\\07個人\\Ray\\50換5\\50換5策略部位細節2.xlsx\")"
   ]
  },
  {
   "cell_type": "code",
   "execution_count": 24,
   "metadata": {},
   "outputs": [],
   "source": [
    "df = df[df['日期']!= max(df['日期'])]"
   ]
  },
  {
   "cell_type": "code",
   "execution_count": 25,
   "metadata": {},
   "outputs": [],
   "source": [
    "ls = list(df['股票代號'])\n",
    "for i in list(df['股票代號_出場'].dropna()):\n",
    "    ls.remove(i)\n"
   ]
  },
  {
   "cell_type": "code",
   "execution_count": 28,
   "metadata": {},
   "outputs": [],
   "source": [
    "ls.sort()"
   ]
  },
  {
   "cell_type": "code",
   "execution_count": 29,
   "metadata": {},
   "outputs": [
    {
     "data": {
      "text/plain": [
       "[1580,\n",
       " 1608,\n",
       " 1612,\n",
       " 1722,\n",
       " 2228,\n",
       " 2328,\n",
       " 2352,\n",
       " 2353,\n",
       " 2355,\n",
       " 2393,\n",
       " 2409,\n",
       " 2428,\n",
       " 2451,\n",
       " 2480,\n",
       " 2492,\n",
       " 2534,\n",
       " 2903,\n",
       " 2912,\n",
       " 3019,\n",
       " 3025,\n",
       " 3026,\n",
       " 3045,\n",
       " 3046,\n",
       " 3213,\n",
       " 3227,\n",
       " 3338,\n",
       " 3481,\n",
       " 3532,\n",
       " 3563,\n",
       " 4105,\n",
       " 4126,\n",
       " 4915,\n",
       " 4966,\n",
       " 5236,\n",
       " 5356,\n",
       " 5474,\n",
       " 6158,\n",
       " 6197,\n",
       " 6203,\n",
       " 6488,\n",
       " 6672,\n",
       " 8105,\n",
       " 8163,\n",
       " 8249,\n",
       " 8433]"
      ]
     },
     "execution_count": 29,
     "metadata": {},
     "output_type": "execute_result"
    }
   ],
   "source": [
    "ls"
   ]
  },
  {
   "cell_type": "code",
   "execution_count": null,
   "metadata": {},
   "outputs": [],
   "source": [
    "2401"
   ]
  },
  {
   "cell_type": "code",
   "execution_count": 30,
   "metadata": {},
   "outputs": [
    {
     "data": {
      "text/plain": [
       "65785"
      ]
     },
     "execution_count": 30,
     "metadata": {},
     "output_type": "execute_result"
    }
   ],
   "source": [
    "204885-139100"
   ]
  },
  {
   "cell_type": "code",
   "execution_count": 15,
   "metadata": {},
   "outputs": [
    {
     "data": {
      "text/plain": [
       "nan"
      ]
     },
     "execution_count": 15,
     "metadata": {},
     "output_type": "execute_result"
    }
   ],
   "source": [
    "i"
   ]
  },
  {
   "cell_type": "code",
   "execution_count": 10,
   "metadata": {},
   "outputs": [
    {
     "ename": "IndexError",
     "evalue": "pop index out of range",
     "output_type": "error",
     "traceback": [
      "\u001b[1;31m---------------------------------------------------------------------------\u001b[0m",
      "\u001b[1;31mIndexError\u001b[0m                                Traceback (most recent call last)",
      "Cell \u001b[1;32mIn[10], line 1\u001b[0m\n\u001b[1;32m----> 1\u001b[0m ls\u001b[39m.\u001b[39;49mpop(\u001b[39m3046\u001b[39;49m)\n",
      "\u001b[1;31mIndexError\u001b[0m: pop index out of range"
     ]
    }
   ],
   "source": []
  },
  {
   "cell_type": "code",
   "execution_count": 6,
   "metadata": {},
   "outputs": [
    {
     "data": {
      "text/html": [
       "<div>\n",
       "<style scoped>\n",
       "    .dataframe tbody tr th:only-of-type {\n",
       "        vertical-align: middle;\n",
       "    }\n",
       "\n",
       "    .dataframe tbody tr th {\n",
       "        vertical-align: top;\n",
       "    }\n",
       "\n",
       "    .dataframe thead th {\n",
       "        text-align: right;\n",
       "    }\n",
       "</style>\n",
       "<table border=\"1\" class=\"dataframe\">\n",
       "  <thead>\n",
       "    <tr style=\"text-align: right;\">\n",
       "      <th></th>\n",
       "      <th>日期</th>\n",
       "      <th>股票代號</th>\n",
       "      <th>收盤價</th>\n",
       "      <th>買入張數</th>\n",
       "      <th>紀錄1</th>\n",
       "      <th>股票代號_出場</th>\n",
       "      <th>賣出張數</th>\n",
       "      <th>紀錄2</th>\n",
       "      <th>Unnamed: 8</th>\n",
       "    </tr>\n",
       "  </thead>\n",
       "  <tbody>\n",
       "    <tr>\n",
       "      <th>0</th>\n",
       "      <td>20230615</td>\n",
       "      <td>3046</td>\n",
       "      <td>98.30</td>\n",
       "      <td>10</td>\n",
       "      <td>NaN</td>\n",
       "      <td>NaN</td>\n",
       "      <td>NaN</td>\n",
       "      <td>NaN</td>\n",
       "      <td>NaN</td>\n",
       "    </tr>\n",
       "    <tr>\n",
       "      <th>1</th>\n",
       "      <td>20230615</td>\n",
       "      <td>2480</td>\n",
       "      <td>124.50</td>\n",
       "      <td>8</td>\n",
       "      <td>NaN</td>\n",
       "      <td>NaN</td>\n",
       "      <td>NaN</td>\n",
       "      <td>NaN</td>\n",
       "      <td>NaN</td>\n",
       "    </tr>\n",
       "    <tr>\n",
       "      <th>2</th>\n",
       "      <td>20230615</td>\n",
       "      <td>6203</td>\n",
       "      <td>92.00</td>\n",
       "      <td>11</td>\n",
       "      <td>NaN</td>\n",
       "      <td>NaN</td>\n",
       "      <td>NaN</td>\n",
       "      <td>NaN</td>\n",
       "      <td>NaN</td>\n",
       "    </tr>\n",
       "    <tr>\n",
       "      <th>3</th>\n",
       "      <td>20230615</td>\n",
       "      <td>2204</td>\n",
       "      <td>99.10</td>\n",
       "      <td>10</td>\n",
       "      <td>NaN</td>\n",
       "      <td>NaN</td>\n",
       "      <td>NaN</td>\n",
       "      <td>NaN</td>\n",
       "      <td>NaN</td>\n",
       "    </tr>\n",
       "    <tr>\n",
       "      <th>4</th>\n",
       "      <td>20230616</td>\n",
       "      <td>3498</td>\n",
       "      <td>47.90</td>\n",
       "      <td>21</td>\n",
       "      <td>NaN</td>\n",
       "      <td>NaN</td>\n",
       "      <td>NaN</td>\n",
       "      <td>NaN</td>\n",
       "      <td>NaN</td>\n",
       "    </tr>\n",
       "    <tr>\n",
       "      <th>...</th>\n",
       "      <td>...</td>\n",
       "      <td>...</td>\n",
       "      <td>...</td>\n",
       "      <td>...</td>\n",
       "      <td>...</td>\n",
       "      <td>...</td>\n",
       "      <td>...</td>\n",
       "      <td>...</td>\n",
       "      <td>...</td>\n",
       "    </tr>\n",
       "    <tr>\n",
       "      <th>130</th>\n",
       "      <td>20230725</td>\n",
       "      <td>2722</td>\n",
       "      <td>66.30</td>\n",
       "      <td>15</td>\n",
       "      <td>NaN</td>\n",
       "      <td>8105.0</td>\n",
       "      <td>66.0</td>\n",
       "      <td>NaN</td>\n",
       "      <td>NaN</td>\n",
       "    </tr>\n",
       "    <tr>\n",
       "      <th>131</th>\n",
       "      <td>20230725</td>\n",
       "      <td>9951</td>\n",
       "      <td>80.00</td>\n",
       "      <td>12</td>\n",
       "      <td>NaN</td>\n",
       "      <td>6672.0</td>\n",
       "      <td>11.0</td>\n",
       "      <td>NaN</td>\n",
       "      <td>NaN</td>\n",
       "    </tr>\n",
       "    <tr>\n",
       "      <th>132</th>\n",
       "      <td>20230725</td>\n",
       "      <td>6235</td>\n",
       "      <td>111.50</td>\n",
       "      <td>9</td>\n",
       "      <td>NaN</td>\n",
       "      <td>3019.0</td>\n",
       "      <td>15.0</td>\n",
       "      <td>NaN</td>\n",
       "      <td>NaN</td>\n",
       "    </tr>\n",
       "    <tr>\n",
       "      <th>133</th>\n",
       "      <td>20230725</td>\n",
       "      <td>6194</td>\n",
       "      <td>33.05</td>\n",
       "      <td>30</td>\n",
       "      <td>NaN</td>\n",
       "      <td>2451.0</td>\n",
       "      <td>14.0</td>\n",
       "      <td>NaN</td>\n",
       "      <td>NaN</td>\n",
       "    </tr>\n",
       "    <tr>\n",
       "      <th>134</th>\n",
       "      <td>20230725</td>\n",
       "      <td>6451</td>\n",
       "      <td>109.00</td>\n",
       "      <td>9</td>\n",
       "      <td>NaN</td>\n",
       "      <td>2492.0</td>\n",
       "      <td>10.0</td>\n",
       "      <td>NaN</td>\n",
       "      <td>NaN</td>\n",
       "    </tr>\n",
       "  </tbody>\n",
       "</table>\n",
       "<p>135 rows × 9 columns</p>\n",
       "</div>"
      ],
      "text/plain": [
       "           日期  股票代號     收盤價  買入張數  紀錄1  股票代號_出場  賣出張數  紀錄2 Unnamed: 8\n",
       "0    20230615  3046   98.30    10  NaN      NaN   NaN  NaN        NaN\n",
       "1    20230615  2480  124.50     8  NaN      NaN   NaN  NaN        NaN\n",
       "2    20230615  6203   92.00    11  NaN      NaN   NaN  NaN        NaN\n",
       "3    20230615  2204   99.10    10  NaN      NaN   NaN  NaN        NaN\n",
       "4    20230616  3498   47.90    21  NaN      NaN   NaN  NaN        NaN\n",
       "..        ...   ...     ...   ...  ...      ...   ...  ...        ...\n",
       "130  20230725  2722   66.30    15  NaN   8105.0  66.0  NaN        NaN\n",
       "131  20230725  9951   80.00    12  NaN   6672.0  11.0  NaN        NaN\n",
       "132  20230725  6235  111.50     9  NaN   3019.0  15.0  NaN        NaN\n",
       "133  20230725  6194   33.05    30  NaN   2451.0  14.0  NaN        NaN\n",
       "134  20230725  6451  109.00     9  NaN   2492.0  10.0  NaN        NaN\n",
       "\n",
       "[135 rows x 9 columns]"
      ]
     },
     "execution_count": 6,
     "metadata": {},
     "output_type": "execute_result"
    }
   ],
   "source": [
    "df"
   ]
  }
 ],
 "metadata": {
  "kernelspec": {
   "display_name": "Python 3",
   "language": "python",
   "name": "python3"
  },
  "language_info": {
   "codemirror_mode": {
    "name": "ipython",
    "version": 3
   },
   "file_extension": ".py",
   "mimetype": "text/x-python",
   "name": "python",
   "nbconvert_exporter": "python",
   "pygments_lexer": "ipython3",
   "version": "3.8.10"
  },
  "orig_nbformat": 4
 },
 "nbformat": 4,
 "nbformat_minor": 2
}
