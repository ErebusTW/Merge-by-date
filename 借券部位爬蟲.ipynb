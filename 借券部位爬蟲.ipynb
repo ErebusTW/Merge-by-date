{
 "cells": [
  {
   "cell_type": "code",
   "execution_count": 43,
   "metadata": {},
   "outputs": [],
   "source": [
    "from selenium import webdriver\n",
    "from selenium.webdriver.common.by import By\n",
    "from selenium.webdriver.support.wait import WebDriverWait\n",
    "from selenium.webdriver.edge.service import Service\n",
    "import pandas as pd\n",
    "import time\n",
    "import xlwings as xw\n",
    "import os\n",
    "import shutil\n",
    "import datetime\n",
    "from datetime import date, timedelta\n",
    "\n",
    "options = webdriver.ChromeOptions()\n",
    "options.add_argument('--headless')"
   ]
  },
  {
   "cell_type": "code",
   "execution_count": 44,
   "metadata": {},
   "outputs": [],
   "source": [
    "def get_week_of_month(query_date):\n",
    "    \"\"\"\n",
    "    獲取某個日期是當月的第幾周\n",
    "    \"\"\"\n",
    "    end = int(query_date.strftime(\"%W\"))\n",
    "    begin = int(datetime.datetime(query_date.year, query_date.month, 1).strftime(\"%W\"))\n",
    "    return end - begin + 1"
   ]
  },
  {
   "cell_type": "code",
   "execution_count": 62,
   "metadata": {},
   "outputs": [
    {
     "name": "stderr",
     "output_type": "stream",
     "text": [
      "C:\\Users\\chiehlinchen\\AppData\\Local\\Temp\\ipykernel_22852\\1957487936.py:1: DeprecationWarning: executable_path has been deprecated, please pass in a Service object\n",
      "  driver = webdriver.Chrome(executable_path=r'D:\\Python相關\\爬蟲\\chromedriver.exe')#, options=option)\n"
     ]
    }
   ],
   "source": [
    "driver = webdriver.Chrome(executable_path=r'D:\\Python相關\\爬蟲\\chromedriver.exe')#, options=option)\n",
    "driver.maximize_window()\n",
    "driver.implicitly_wait(10)\n",
    "wait = WebDriverWait(driver, 10)\n",
    "\n",
    "time.sleep(0.3)\n",
    "\n",
    "\n",
    "#第一個網頁\n",
    "driver.get(r'https://www.twse.com.tw/zh/trading/margin/twt92u.html')\n",
    "time.sleep(3)\n",
    "check = driver.find_element(By.XPATH, '//*[@id=\"label0\"]/option[@value=\"'+str(datetime.datetime.now().year)+'\"]')\n",
    "check.click()\n",
    "time.sleep(0.5)\n",
    "check = driver.find_element(By.XPATH, '//*[@id=\"form\"]/div/div[1]/span/select[2]/option[@value=\"'+str(datetime.datetime.now().month)+'\"]')\n",
    "check.click()\n",
    "time.sleep(0.5)\n",
    "check = driver.find_element(By.XPATH, '//*[@id=\"form\"]/div/div[1]/span/select[3]/option[@value= \"'+str(datetime.datetime.now().day)+'\"]')\n",
    "check.click()\n",
    "time.sleep(0.5)\n",
    "check = driver.find_element(By.XPATH, '//*[@id=\"form\"]/div/div[2]/button')\n",
    "check.click()\n",
    "time.sleep(2)\n",
    "check = driver.find_element(By.XPATH, '//*[@id=\"reports\"]/div[1]/button[2]')\n",
    "check.click()\n",
    "time.sleep(2)\n",
    "\n",
    "\n",
    "#第二個網頁\n",
    "driver.get(r'https://www.tpex.org.tw/web/stock/margin_trading/margin_mark/margin_mark.php?l=zh-tw')\n",
    "time.sleep(3)\n",
    "\n",
    "check = driver.find_element(By.XPATH, '//*[@id=\"input_date\"]')\n",
    "check.click()\n",
    "time.sleep(0.5)\n",
    "\n",
    "check = driver.find_element(By.XPATH, '//*[@id=\"ui-datepicker-div\"]/div/div/select[1]/option[@value= \"'+str(datetime.datetime.now().year)+'\"]')\n",
    "check.click()\n",
    "time.sleep(0.5)\n",
    "check = driver.find_element(By.XPATH, '//*[@id=\"ui-datepicker-div\"]/div/div/select[2]/option[@value= \"'+str(datetime.datetime.now().month-1)+'\"]')\n",
    "check.click()\n",
    "time.sleep(0.5)\n",
    "check = driver.find_element(By.XPATH, '//*[@id=\"ui-datepicker-div\"]/table/tbody/tr['+str(get_week_of_month(datetime.datetime.now()))+']/td[' + str(datetime.datetime.now().weekday()+1)+']/a')\n",
    "check.click()\n",
    "time.sleep(0.5)\n",
    "check = driver.find_element(By.XPATH, '/html/body/div[3]/div[2]/div[2]/div/button[2]/span[2]')\n",
    "check.click()\n",
    "time.sleep(2)\n",
    "\n",
    "\n",
    "#第三個網頁\n",
    "driver.get(r'https://www.twse.com.tw/zh/trading/margin/twt93u.html')\n",
    "time.sleep(3)\n",
    "check = driver.find_element(By.XPATH, '//*[@id=\"label0\"]/option[@value=\"'+str(datetime.datetime.now().year)+'\"]')\n",
    "check.click()\n",
    "time.sleep(0.5)\n",
    "check = driver.find_element(By.XPATH, '//*[@id=\"form\"]/div/div[1]/span/select[2]/option[@value=\"'+str(datetime.datetime.now().month)+'\"]')\n",
    "check.click()\n",
    "time.sleep(0.5)\n",
    "check = driver.find_element(By.XPATH, '//*[@id=\"form\"]/div/div[1]/span/select[3]/option[@value= \"'+str(datetime.datetime.now().day-1)+'\"]')\n",
    "check.click()\n",
    "time.sleep(0.5)\n",
    "check = driver.find_element(By.XPATH, '//*[@id=\"form\"]/div/div[2]/button')\n",
    "check.click()\n",
    "time.sleep(2)\n",
    "check = driver.find_element(By.XPATH, '//*[@id=\"reports\"]/div[1]/button[2]')\n",
    "check.click()\n",
    "time.sleep(2)\n",
    "\n",
    "#第四個網頁\n",
    "driver.get(r'https://www.tpex.org.tw/web/stock/margin_trading/margin_sbl/margin_sbl.php?l=zh-tw')\n",
    "time.sleep(3)\n",
    "\n",
    "check = driver.find_element(By.XPATH, '//*[@id=\"input_date\"]')\n",
    "check.click()\n",
    "time.sleep(0.5)\n",
    "\n",
    "check = driver.find_element(By.XPATH, '//*[@id=\"ui-datepicker-div\"]/div/div/select[1]/option[@value= \"'+str(datetime.datetime.now().year)+'\"]')\n",
    "check.click()\n",
    "time.sleep(0.5)\n",
    "check = driver.find_element(By.XPATH, '//*[@id=\"ui-datepicker-div\"]/div/div/select[2]/option[@value= \"'+str(datetime.datetime.now().month-1)+'\"]')\n",
    "check.click()\n",
    "time.sleep(0.5)\n",
    "check = driver.find_element(By.XPATH, '//*[@id=\"ui-datepicker-div\"]/table/tbody/tr['+str(get_week_of_month(datetime.datetime.now()))+']/td[' + str((datetime.datetime.now()-datetime.timedelta(days=1)).weekday()+1)+']/a')\n",
    "check.click()\n",
    "time.sleep(0.5)\n",
    "check = driver.find_element(By.XPATH, '/html/body/div[3]/div[2]/div[2]/div/button[2]/span[2]')\n",
    "check.click()\n",
    "time.sleep(2)\n",
    "\n",
    "\n",
    "driver.close()"
   ]
  }
 ],
 "metadata": {
  "kernelspec": {
   "display_name": "Python 3.10.2 64-bit",
   "language": "python",
   "name": "python3"
  },
  "language_info": {
   "codemirror_mode": {
    "name": "ipython",
    "version": 3
   },
   "file_extension": ".py",
   "mimetype": "text/x-python",
   "name": "python",
   "nbconvert_exporter": "python",
   "pygments_lexer": "ipython3",
   "version": "3.10.2"
  },
  "orig_nbformat": 4,
  "vscode": {
   "interpreter": {
    "hash": "1b43cb0bd93d5abbadd54afed8252f711d4681fe6223ad6b67ffaee289648f85"
   }
  }
 },
 "nbformat": 4,
 "nbformat_minor": 2
}
