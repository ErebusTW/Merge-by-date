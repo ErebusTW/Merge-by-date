{
 "cells": [
  {
   "cell_type": "markdown",
   "metadata": {},
   "source": [
    "A Closed-Form Solution for Options with Stochastic Volatility with Applications to Bond and Currency Options"
   ]
  },
  {
   "cell_type": "markdown",
   "metadata": {},
   "source": [
    "https://typeset.io/papers/a-closed-form-solution-for-options-with-stochastic-2mnz9ol71o"
   ]
  },
  {
   "cell_type": "markdown",
   "metadata": {},
   "source": [
    "Closed-Form Solution"
   ]
  },
  {
   "cell_type": "code",
   "execution_count": 1,
   "metadata": {},
   "outputs": [
    {
     "name": "stderr",
     "output_type": "stream",
     "text": [
      "C:\\Users\\chiehlinchen\\AppData\\Local\\Temp\\ipykernel_39104\\1212486590.py:13: MatplotlibDeprecationWarning: The seaborn styles shipped by Matplotlib are deprecated since 3.6, as they no longer correspond to the styles shipped by seaborn. However, they will remain available as 'seaborn-v0_8-<style>'. Alternatively, directly use the seaborn API instead.\n",
      "  plt.style.use(\"seaborn\")\n"
     ]
    }
   ],
   "source": [
    "import pandas as pd\n",
    "import numpy as np\n",
    "import matplotlib.pyplot as plt\n",
    "import numpy.random as npr\n",
    "from datetime import datetime\n",
    "import random\n",
    "import math\n",
    "import scipy.stats as scs\n",
    "from math import sqrt, exp\n",
    "import QuantLib as ql\n",
    "\n",
    "plt.rcParams[\"figure.figsize\"] = (10,6)\n",
    "plt.style.use(\"seaborn\")"
   ]
  },
  {
   "cell_type": "code",
   "execution_count": 2,
   "metadata": {},
   "outputs": [],
   "source": [
    "#Payoff function inputs are option type and strike price\n",
    "strike_price = 100\n",
    "option_type = ql.Option.Call\n",
    "\n",
    "call_payoff = ql.PlainVanillaPayoff(option_type, strike_price)"
   ]
  },
  {
   "cell_type": "code",
   "execution_count": 3,
   "metadata": {},
   "outputs": [],
   "source": [
    "# Exercise function takes maturity date of the option as input\n",
    "day_count = ql.Actual365Fixed()\n",
    "# calendar = ql.UnitedStates(m = ql.UnitedStates.NYSE)\n",
    "maturity = ql.Date(15, 12, 2023)\n",
    "today = ql.Date(10, 11, 2023)\n",
    "\n",
    "call_exercise = ql.EuropeanExercise(maturity)"
   ]
  },
  {
   "cell_type": "code",
   "execution_count": 4,
   "metadata": {},
   "outputs": [],
   "source": [
    "#Function inputs are striked type payoff and exercise\n",
    "option = ql.VanillaOption(call_payoff, call_exercise)"
   ]
  },
  {
   "cell_type": "code",
   "execution_count": 5,
   "metadata": {},
   "outputs": [],
   "source": [
    "#Option input values\n",
    "spot_price = 100\n",
    "yearly_historical_volatility = 0.1\n",
    "riskfree_rate = 0.00\n",
    "dividend = 0.00\n",
    "\n",
    "variance = 0.01\n",
    "kappa = 2\n",
    "theta = 0.01\n",
    "epsilon = 0.1\n",
    "rho = 0.5\n",
    "\n",
    "initial_value = ql.QuoteHandle(ql.SimpleQuote(spot_price))"
   ]
  },
  {
   "cell_type": "code",
   "execution_count": 6,
   "metadata": {},
   "outputs": [],
   "source": [
    "# Setting up flat risk free curves\n",
    "discount_curve = ql.YieldTermStructureHandle(ql.FlatForward(today, riskfree_rate, day_count))\n",
    "dividend_yield = ql.YieldTermStructureHandle(ql.FlatForward(today, dividend, day_count))"
   ]
  },
  {
   "cell_type": "code",
   "execution_count": 7,
   "metadata": {},
   "outputs": [],
   "source": [
    "heston_process = ql.HestonProcess(discount_curve, dividend_yield, initial_value, variance, kappa, theta,epsilon,rho)"
   ]
  },
  {
   "cell_type": "code",
   "execution_count": 8,
   "metadata": {},
   "outputs": [
    {
     "name": "stdout",
     "output_type": "stream",
     "text": [
      "option_price 1.231925967029639\n"
     ]
    }
   ],
   "source": [
    "engine = ql.AnalyticHestonEngine(ql.HestonModel(heston_process))\n",
    "option.setPricingEngine(engine)\n",
    "price = option.NPV()\n",
    "print(\"option_price\",price)"
   ]
  },
  {
   "cell_type": "code",
   "execution_count": 9,
   "metadata": {},
   "outputs": [
    {
     "name": "stdout",
     "output_type": "stream",
     "text": [
      "option_price 1.2353223646700968\n"
     ]
    }
   ],
   "source": [
    "#BSM\n",
    "\n",
    "volatility = ql.BlackVolTermStructureHandle(ql.BlackConstantVol(today,ql.NullCalendar(),0.1,ql.Actual365Fixed()))\n",
    "process = ql.BlackScholesMertonProcess(initial_value, dividend_yield, discount_curve, volatility)\n",
    "\n",
    "engine = ql.AnalyticEuropeanEngine(process)\n",
    "option.setPricingEngine(engine)\n",
    "price = option.NPV()\n",
    "print(\"option_price\",price)"
   ]
  }
 ],
 "metadata": {
  "kernelspec": {
   "display_name": "Python 3",
   "language": "python",
   "name": "python3"
  },
  "language_info": {
   "codemirror_mode": {
    "name": "ipython",
    "version": 3
   },
   "file_extension": ".py",
   "mimetype": "text/x-python",
   "name": "python",
   "nbconvert_exporter": "python",
   "pygments_lexer": "ipython3",
   "version": "3.8.10"
  },
  "orig_nbformat": 4
 },
 "nbformat": 4,
 "nbformat_minor": 2
}
