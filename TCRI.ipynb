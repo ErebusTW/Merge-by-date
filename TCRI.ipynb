{
 "cells": [
  {
   "cell_type": "code",
   "execution_count": 8,
   "metadata": {},
   "outputs": [],
   "source": [
    "import pandas as pd \n",
    "import pyodbc"
   ]
  },
  {
   "cell_type": "code",
   "execution_count": 17,
   "metadata": {},
   "outputs": [],
   "source": [
    "class get_df:\n",
    "\n",
    "    def __init__(self):\n",
    "        self.DB_infos = {'StrategyData': ('10.14.106.11','StrategyData','cc1102','cc1102')}\n",
    "        self.querys = {}\n",
    "        self.db = str()\n",
    "        self.df_dict =  dict()\n",
    "        self.w_code_dict = dict()\n",
    "        self.point_dict = dict()\n",
    "        self.result_dict = dict()\n",
    "        \n",
    "    def db_connect(self, DB_info):\n",
    "        DB_Host, DB_Name, DB_User, DB_Password = self.DB_infos[DB_info]\n",
    "        print(\"Connecting to database using pyodbc...\")\n",
    "        self.db = pyodbc.connect('DRIVER={ODBC Driver 13 for SQL Server}; SERVER=' + DB_Host + '; DATABASE=' + DB_Name + '; UID=' + DB_User + '; PWD=' + DB_Password)\n",
    "        print(\"Succesfully Connected to database using pyodbc!\")\n",
    "      \n",
    "    def load_data(self, query):\n",
    "        df =  pd.read_sql(self.querys[query], self.db)\n",
    "        return df\n",
    "\n",
    "    @staticmethod\n",
    "    def make_TCRI():\n",
    "        df =\"\"\"SELECT  [STOCKID]\n",
    "                      ,[TCRI]\n",
    "                  FROM [StrategyData].[dbo].[TCRI]\"\"\"\n",
    "        return df\n",
    "\n"
   ]
  },
  {
   "cell_type": "code",
   "execution_count": 18,
   "metadata": {},
   "outputs": [
    {
     "name": "stdout",
     "output_type": "stream",
     "text": [
      "Connecting to database using pyodbc...\n",
      "Succesfully Connected to database using pyodbc!\n"
     ]
    },
    {
     "name": "stderr",
     "output_type": "stream",
     "text": [
      "c:\\veighna_studio\\lib\\site-packages\\pandas\\io\\sql.py:761: UserWarning: pandas only support SQLAlchemy connectable(engine/connection) ordatabase string URI or sqlite3 DBAPI2 connectionother DBAPI2 objects are not tested, please consider using SQLAlchemy\n",
      "  warnings.warn(\n"
     ]
    }
   ],
   "source": [
    "sql_base = get_df()\n",
    "sql_base.db_connect('StrategyData')\n",
    "sql_base.querys['TCRI'] = get_df.make_TCRI()\n",
    "df = sql_base.load_data('TCRI')\n",
    "df['TCRI'] = df['TCRI'].str.strip()\n",
    "path = input()\n",
    "df.to_excel(path + \"\\\\TCRI.xlsx\")"
   ]
  }
 ],
 "metadata": {
  "kernelspec": {
   "display_name": "Python 3.10.2 64-bit",
   "language": "python",
   "name": "python3"
  },
  "language_info": {
   "codemirror_mode": {
    "name": "ipython",
    "version": 3
   },
   "file_extension": ".py",
   "mimetype": "text/x-python",
   "name": "python",
   "nbconvert_exporter": "python",
   "pygments_lexer": "ipython3",
   "version": "3.10.2"
  },
  "orig_nbformat": 4,
  "vscode": {
   "interpreter": {
    "hash": "1b43cb0bd93d5abbadd54afed8252f711d4681fe6223ad6b67ffaee289648f85"
   }
  }
 },
 "nbformat": 4,
 "nbformat_minor": 2
}
