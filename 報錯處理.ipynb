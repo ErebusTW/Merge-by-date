{
 "cells": [
  {
   "cell_type": "code",
   "execution_count": null,
   "metadata": {},
   "outputs": [],
   "source": [
    "育儀檔DF['需求樟樹'] = 張數.apply(floormethod)\n",
    "\n",
    "育儀檔DF\n",
    "育儀檔DF.to_excel(r'C:\\Users\\larryx30\\larryx30\\每週買賣報告\\借券\\每週空單需求'+datetime.datetime.today().strftime('%Y-%m-%d')+'.xlsx')"
   ]
  },
  {
   "cell_type": "markdown",
   "metadata": {},
   "source": [
    "改成"
   ]
  },
  {
   "cell_type": "code",
   "execution_count": null,
   "metadata": {},
   "outputs": [],
   "source": [
    "try:\n",
    "    育儀檔DF['需求樟樹'] = 張數.apply(floormethod)\n",
    "    育儀檔DF.to_excel(r'C:\\Users\\larryx30\\larryx30\\每週買賣報告\\借券\\每週空單需求'+datetime.datetime.today().strftime('%Y-%m-%d')+'.xlsx')\n",
    "except:\n",
    "    pass"
   ]
  }
 ],
 "metadata": {
  "language_info": {
   "name": "python"
  },
  "orig_nbformat": 4
 },
 "nbformat": 4,
 "nbformat_minor": 2
}
